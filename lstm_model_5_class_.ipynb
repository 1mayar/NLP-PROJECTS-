{
  "cells": [
    {
      "cell_type": "code",
      "execution_count": null,
      "id": "62aa7512",
      "metadata": {
        "_cell_guid": "b1076dfc-b9ad-4769-8c92-a6c4dae69d19",
        "_uuid": "8f2839f25d086af736a60e9eeb907d3b93b6e0e5",
        "execution": {
          "iopub.execute_input": "2024-08-30T09:34:24.306960Z",
          "iopub.status.busy": "2024-08-30T09:34:24.306432Z",
          "iopub.status.idle": "2024-08-30T09:34:33.994415Z",
          "shell.execute_reply": "2024-08-30T09:34:33.993298Z"
        },
        "papermill": {
          "duration": 9.701451,
          "end_time": "2024-08-30T09:34:33.996933",
          "exception": false,
          "start_time": "2024-08-30T09:34:24.295482",
          "status": "completed"
        },
        "tags": [],
        "id": "62aa7512",
        "outputId": "d88033b3-e038-468f-f15e-83dcb30b877a"
      },
      "outputs": [
        {
          "data": {
            "text/html": [
              "<div>\n",
              "<style scoped>\n",
              "    .dataframe tbody tr th:only-of-type {\n",
              "        vertical-align: middle;\n",
              "    }\n",
              "\n",
              "    .dataframe tbody tr th {\n",
              "        vertical-align: top;\n",
              "    }\n",
              "\n",
              "    .dataframe thead th {\n",
              "        text-align: right;\n",
              "    }\n",
              "</style>\n",
              "<table border=\"1\" class=\"dataframe\">\n",
              "  <thead>\n",
              "    <tr style=\"text-align: right;\">\n",
              "      <th></th>\n",
              "      <th>text</th>\n",
              "      <th>targe</th>\n",
              "    </tr>\n",
              "  </thead>\n",
              "  <tbody>\n",
              "    <tr>\n",
              "      <th>0</th>\n",
              "      <td>بين أستوديوهات ورزازات وصحراء مرزوكة وآثار ولي...</td>\n",
              "      <td>0</td>\n",
              "    </tr>\n",
              "    <tr>\n",
              "      <th>1</th>\n",
              "      <td>قررت النجمة الأمريكية أوبرا وينفري ألا يقتصر ع...</td>\n",
              "      <td>0</td>\n",
              "    </tr>\n",
              "    <tr>\n",
              "      <th>2</th>\n",
              "      <td>أخبارنا المغربية الوزاني تصوير الشملالي ألهب ا...</td>\n",
              "      <td>0</td>\n",
              "    </tr>\n",
              "    <tr>\n",
              "      <th>3</th>\n",
              "      <td>اخبارنا المغربية قال ابراهيم الراشدي محامي سعد...</td>\n",
              "      <td>0</td>\n",
              "    </tr>\n",
              "    <tr>\n",
              "      <th>4</th>\n",
              "      <td>تزال صناعة الجلود في المغرب تتبع الطريقة التقل...</td>\n",
              "      <td>0</td>\n",
              "    </tr>\n",
              "  </tbody>\n",
              "</table>\n",
              "</div>"
            ],
            "text/plain": [
              "                                                text  targe\n",
              "0  بين أستوديوهات ورزازات وصحراء مرزوكة وآثار ولي...      0\n",
              "1  قررت النجمة الأمريكية أوبرا وينفري ألا يقتصر ع...      0\n",
              "2  أخبارنا المغربية الوزاني تصوير الشملالي ألهب ا...      0\n",
              "3  اخبارنا المغربية قال ابراهيم الراشدي محامي سعد...      0\n",
              "4  تزال صناعة الجلود في المغرب تتبع الطريقة التقل...      0"
            ]
          },
          "execution_count": 1,
          "metadata": {},
          "output_type": "execute_result"
        }
      ],
      "source": [
        "import pandas as pd\n",
        "df=pd.read_csv('/kaggle/input/arabic-classification/arabic_dataset_classifiction.csv/arabic_dataset_classifiction.csv')\n",
        "df.head()"
      ]
    },
    {
      "cell_type": "code",
      "execution_count": null,
      "id": "404edf0e",
      "metadata": {
        "execution": {
          "iopub.execute_input": "2024-08-30T09:34:34.015883Z",
          "iopub.status.busy": "2024-08-30T09:34:34.014893Z",
          "iopub.status.idle": "2024-08-30T09:34:34.022505Z",
          "shell.execute_reply": "2024-08-30T09:34:34.021373Z"
        },
        "papermill": {
          "duration": 0.019519,
          "end_time": "2024-08-30T09:34:34.024962",
          "exception": false,
          "start_time": "2024-08-30T09:34:34.005443",
          "status": "completed"
        },
        "tags": [],
        "id": "404edf0e",
        "outputId": "36b47c6d-93b2-4afa-b486-74e601628925"
      },
      "outputs": [
        {
          "data": {
            "text/plain": [
              "(111728, 2)"
            ]
          },
          "execution_count": 2,
          "metadata": {},
          "output_type": "execute_result"
        }
      ],
      "source": [
        "df.shape"
      ]
    },
    {
      "cell_type": "code",
      "execution_count": null,
      "id": "8fee73eb",
      "metadata": {
        "execution": {
          "iopub.execute_input": "2024-08-30T09:34:34.044055Z",
          "iopub.status.busy": "2024-08-30T09:34:34.043163Z",
          "iopub.status.idle": "2024-08-30T09:34:34.068970Z",
          "shell.execute_reply": "2024-08-30T09:34:34.067800Z"
        },
        "papermill": {
          "duration": 0.038172,
          "end_time": "2024-08-30T09:34:34.071613",
          "exception": false,
          "start_time": "2024-08-30T09:34:34.033441",
          "status": "completed"
        },
        "tags": [],
        "id": "8fee73eb",
        "outputId": "46013d81-5545-455d-a41d-bac4c2c21eac"
      },
      "outputs": [
        {
          "data": {
            "text/plain": [
              "(55864, 2)"
            ]
          },
          "execution_count": 3,
          "metadata": {},
          "output_type": "execute_result"
        }
      ],
      "source": [
        "data = df.sample(frac=0.5, random_state=42)\n",
        "data.shape"
      ]
    },
    {
      "cell_type": "code",
      "execution_count": null,
      "id": "35a7f5a6",
      "metadata": {
        "execution": {
          "iopub.execute_input": "2024-08-30T09:34:34.090444Z",
          "iopub.status.busy": "2024-08-30T09:34:34.089999Z",
          "iopub.status.idle": "2024-08-30T09:34:34.122806Z",
          "shell.execute_reply": "2024-08-30T09:34:34.121357Z"
        },
        "papermill": {
          "duration": 0.045485,
          "end_time": "2024-08-30T09:34:34.125574",
          "exception": false,
          "start_time": "2024-08-30T09:34:34.080089",
          "status": "completed"
        },
        "tags": [],
        "id": "35a7f5a6"
      },
      "outputs": [],
      "source": [
        "# Remove rows where the 'text' column is null\n",
        "data = data.dropna(subset=['text'])\n"
      ]
    },
    {
      "cell_type": "code",
      "execution_count": null,
      "id": "7e57167d",
      "metadata": {
        "execution": {
          "iopub.execute_input": "2024-08-30T09:34:34.145547Z",
          "iopub.status.busy": "2024-08-30T09:34:34.144409Z",
          "iopub.status.idle": "2024-08-30T09:36:25.778417Z",
          "shell.execute_reply": "2024-08-30T09:36:25.776652Z"
        },
        "papermill": {
          "duration": 111.646856,
          "end_time": "2024-08-30T09:36:25.781168",
          "exception": false,
          "start_time": "2024-08-30T09:34:34.134312",
          "status": "completed"
        },
        "tags": [],
        "id": "7e57167d",
        "outputId": "1981f60e-c181-47bc-f6fd-bc760429f450"
      },
      "outputs": [
        {
          "name": "stdout",
          "output_type": "stream",
          "text": [
            "Collecting arabic_reshaper\r\n",
            "  Downloading arabic_reshaper-3.0.0-py3-none-any.whl.metadata (12 kB)\r\n",
            "Requirement already satisfied: pyarabic in /opt/conda/lib/python3.10/site-packages (0.6.15)\r\n",
            "Collecting camel_tools\r\n",
            "  Downloading camel_tools-1.5.5-py3-none-any.whl.metadata (10 kB)\r\n",
            "Requirement already satisfied: six>=1.14.0 in /opt/conda/lib/python3.10/site-packages (from pyarabic) (1.16.0)\r\n",
            "Requirement already satisfied: future in /opt/conda/lib/python3.10/site-packages (from camel_tools) (1.0.0)\r\n",
            "Requirement already satisfied: docopt in /opt/conda/lib/python3.10/site-packages (from camel_tools) (0.6.2)\r\n",
            "Requirement already satisfied: cachetools in /opt/conda/lib/python3.10/site-packages (from camel_tools) (4.2.4)\r\n",
            "Requirement already satisfied: numpy<2 in /opt/conda/lib/python3.10/site-packages (from camel_tools) (1.26.4)\r\n",
            "Requirement already satisfied: scipy in /opt/conda/lib/python3.10/site-packages (from camel_tools) (1.14.0)\r\n",
            "Requirement already satisfied: pandas in /opt/conda/lib/python3.10/site-packages (from camel_tools) (2.2.2)\r\n",
            "Requirement already satisfied: scikit-learn in /opt/conda/lib/python3.10/site-packages (from camel_tools) (1.2.2)\r\n",
            "Requirement already satisfied: dill in /opt/conda/lib/python3.10/site-packages (from camel_tools) (0.3.8)\r\n",
            "Requirement already satisfied: torch>=2.0 in /opt/conda/lib/python3.10/site-packages (from camel_tools) (2.4.0+cpu)\r\n",
            "Collecting transformers<4.44.0,>=4.0 (from camel_tools)\r\n",
            "  Downloading transformers-4.43.4-py3-none-any.whl.metadata (43 kB)\r\n",
            "\u001b[2K     \u001b[90m━━━━━━━━━━━━━━━━━━━━━━━━━━━━━━━━━━━━━━━━\u001b[0m \u001b[32m43.7/43.7 kB\u001b[0m \u001b[31m1.8 MB/s\u001b[0m eta \u001b[36m0:00:00\u001b[0m\r\n",
            "\u001b[?25hCollecting editdistance (from camel_tools)\r\n",
            "  Downloading editdistance-0.8.1-cp310-cp310-manylinux_2_17_x86_64.manylinux2014_x86_64.whl.metadata (3.9 kB)\r\n",
            "Requirement already satisfied: requests in /opt/conda/lib/python3.10/site-packages (from camel_tools) (2.32.3)\r\n",
            "Requirement already satisfied: emoji in /opt/conda/lib/python3.10/site-packages (from camel_tools) (2.12.1)\r\n",
            "Collecting pyrsistent (from camel_tools)\r\n",
            "  Downloading pyrsistent-0.20.0-cp310-cp310-manylinux_2_17_x86_64.manylinux2014_x86_64.whl.metadata (27 kB)\r\n",
            "Requirement already satisfied: tabulate in /opt/conda/lib/python3.10/site-packages (from camel_tools) (0.9.0)\r\n",
            "Requirement already satisfied: tqdm in /opt/conda/lib/python3.10/site-packages (from camel_tools) (4.66.4)\r\n",
            "Collecting muddler (from camel_tools)\r\n",
            "  Downloading muddler-0.1.3-py3-none-any.whl.metadata (7.5 kB)\r\n",
            "Collecting camel-kenlm>=2024.5.6 (from camel_tools)\r\n",
            "  Downloading camel-kenlm-2024.5.6.zip (556 kB)\r\n",
            "\u001b[2K     \u001b[90m━━━━━━━━━━━━━━━━━━━━━━━━━━━━━━━━━━━━━━\u001b[0m \u001b[32m556.4/556.4 kB\u001b[0m \u001b[31m14.1 MB/s\u001b[0m eta \u001b[36m0:00:00\u001b[0m\r\n",
            "\u001b[?25h  Installing build dependencies ... \u001b[?25l-\b \b\\\b \b|\b \b/\b \b-\b \b\\\b \b|\b \b/\b \b-\b \bdone\r\n",
            "\u001b[?25h  Getting requirements to build wheel ... \u001b[?25l-\b \bdone\r\n",
            "\u001b[?25h  Preparing metadata (pyproject.toml) ... \u001b[?25l-\b \bdone\r\n",
            "\u001b[?25hRequirement already satisfied: filelock in /opt/conda/lib/python3.10/site-packages (from torch>=2.0->camel_tools) (3.15.1)\r\n",
            "Requirement already satisfied: typing-extensions>=4.8.0 in /opt/conda/lib/python3.10/site-packages (from torch>=2.0->camel_tools) (4.12.2)\r\n",
            "Requirement already satisfied: sympy in /opt/conda/lib/python3.10/site-packages (from torch>=2.0->camel_tools) (1.12)\r\n",
            "Requirement already satisfied: networkx in /opt/conda/lib/python3.10/site-packages (from torch>=2.0->camel_tools) (3.3)\r\n",
            "Requirement already satisfied: jinja2 in /opt/conda/lib/python3.10/site-packages (from torch>=2.0->camel_tools) (3.1.4)\r\n",
            "Requirement already satisfied: fsspec in /opt/conda/lib/python3.10/site-packages (from torch>=2.0->camel_tools) (2024.6.1)\r\n",
            "Requirement already satisfied: huggingface-hub<1.0,>=0.23.2 in /opt/conda/lib/python3.10/site-packages (from transformers<4.44.0,>=4.0->camel_tools) (0.24.6)\r\n",
            "Requirement already satisfied: packaging>=20.0 in /opt/conda/lib/python3.10/site-packages (from transformers<4.44.0,>=4.0->camel_tools) (21.3)\r\n",
            "Requirement already satisfied: pyyaml>=5.1 in /opt/conda/lib/python3.10/site-packages (from transformers<4.44.0,>=4.0->camel_tools) (6.0.2)\r\n",
            "Requirement already satisfied: regex!=2019.12.17 in /opt/conda/lib/python3.10/site-packages (from transformers<4.44.0,>=4.0->camel_tools) (2024.5.15)\r\n",
            "Requirement already satisfied: safetensors>=0.4.1 in /opt/conda/lib/python3.10/site-packages (from transformers<4.44.0,>=4.0->camel_tools) (0.4.4)\r\n",
            "Requirement already satisfied: tokenizers<0.20,>=0.19 in /opt/conda/lib/python3.10/site-packages (from transformers<4.44.0,>=4.0->camel_tools) (0.19.1)\r\n",
            "Requirement already satisfied: python-dateutil>=2.8.2 in /opt/conda/lib/python3.10/site-packages (from pandas->camel_tools) (2.9.0.post0)\r\n",
            "Requirement already satisfied: pytz>=2020.1 in /opt/conda/lib/python3.10/site-packages (from pandas->camel_tools) (2024.1)\r\n",
            "Requirement already satisfied: tzdata>=2022.7 in /opt/conda/lib/python3.10/site-packages (from pandas->camel_tools) (2024.1)\r\n",
            "Requirement already satisfied: charset-normalizer<4,>=2 in /opt/conda/lib/python3.10/site-packages (from requests->camel_tools) (3.3.2)\r\n",
            "Requirement already satisfied: idna<4,>=2.5 in /opt/conda/lib/python3.10/site-packages (from requests->camel_tools) (3.7)\r\n",
            "Requirement already satisfied: urllib3<3,>=1.21.1 in /opt/conda/lib/python3.10/site-packages (from requests->camel_tools) (1.26.18)\r\n",
            "Requirement already satisfied: certifi>=2017.4.17 in /opt/conda/lib/python3.10/site-packages (from requests->camel_tools) (2024.7.4)\r\n",
            "Requirement already satisfied: joblib>=1.1.1 in /opt/conda/lib/python3.10/site-packages (from scikit-learn->camel_tools) (1.4.2)\r\n",
            "Requirement already satisfied: threadpoolctl>=2.0.0 in /opt/conda/lib/python3.10/site-packages (from scikit-learn->camel_tools) (3.5.0)\r\n",
            "Requirement already satisfied: pyparsing!=3.0.5,>=2.0.2 in /opt/conda/lib/python3.10/site-packages (from packaging>=20.0->transformers<4.44.0,>=4.0->camel_tools) (3.1.2)\r\n",
            "Requirement already satisfied: MarkupSafe>=2.0 in /opt/conda/lib/python3.10/site-packages (from jinja2->torch>=2.0->camel_tools) (2.1.5)\r\n",
            "Requirement already satisfied: mpmath>=0.19 in /opt/conda/lib/python3.10/site-packages (from sympy->torch>=2.0->camel_tools) (1.3.0)\r\n",
            "Downloading arabic_reshaper-3.0.0-py3-none-any.whl (20 kB)\r\n",
            "Downloading camel_tools-1.5.5-py3-none-any.whl (124 kB)\r\n",
            "\u001b[2K   \u001b[90m━━━━━━━━━━━━━━━━━━━━━━━━━━━━━━━━━━━━━━━━\u001b[0m \u001b[32m124.5/124.5 kB\u001b[0m \u001b[31m5.9 MB/s\u001b[0m eta \u001b[36m0:00:00\u001b[0m\r\n",
            "\u001b[?25hDownloading transformers-4.43.4-py3-none-any.whl (9.4 MB)\r\n",
            "\u001b[2K   \u001b[90m━━━━━━━━━━━━━━━━━━━━━━━━━━━━━━━━━━━━━━━━\u001b[0m \u001b[32m9.4/9.4 MB\u001b[0m \u001b[31m70.1 MB/s\u001b[0m eta \u001b[36m0:00:00\u001b[0m\r\n",
            "\u001b[?25hDownloading editdistance-0.8.1-cp310-cp310-manylinux_2_17_x86_64.manylinux2014_x86_64.whl (401 kB)\r\n",
            "\u001b[2K   \u001b[90m━━━━━━━━━━━━━━━━━━━━━━━━━━━━━━━━━━━━━━━━\u001b[0m \u001b[32m401.8/401.8 kB\u001b[0m \u001b[31m18.1 MB/s\u001b[0m eta \u001b[36m0:00:00\u001b[0m\r\n",
            "\u001b[?25hDownloading muddler-0.1.3-py3-none-any.whl (16 kB)\r\n",
            "Downloading pyrsistent-0.20.0-cp310-cp310-manylinux_2_17_x86_64.manylinux2014_x86_64.whl (117 kB)\r\n",
            "\u001b[2K   \u001b[90m━━━━━━━━━━━━━━━━━━━━━━━━━━━━━━━━━━━━━━━━\u001b[0m \u001b[32m117.7/117.7 kB\u001b[0m \u001b[31m5.3 MB/s\u001b[0m eta \u001b[36m0:00:00\u001b[0m\r\n",
            "\u001b[?25hBuilding wheels for collected packages: camel-kenlm\r\n",
            "  Building wheel for camel-kenlm (pyproject.toml) ... \u001b[?25l-\b \b\\\b \b|\b \b/\b \b-\b \b\\\b \b|\b \b/\b \b-\b \b\\\b \b|\b \b/\b \b-\b \b\\\b \b|\b \b/\b \b-\b \b\\\b \b|\b \b/\b \b-\b \b\\\b \b|\b \b/\b \b-\b \b\\\b \b|\b \b/\b \b-\b \b\\\b \b|\b \b/\b \b-\b \b\\\b \b|\b \b/\b \b-\b \b\\\b \b|\b \b/\b \b-\b \b\\\b \b|\b \b/\b \b-\b \b\\\b \b|\b \b/\b \b-\b \b\\\b \b|\b \b/\b \b-\b \b\\\b \b|\b \b/\b \b-\b \b\\\b \b|\b \b/\b \b-\b \b\\\b \b|\b \b/\b \b-\b \b\\\b \b|\b \b/\b \b-\b \b\\\b \b|\b \b/\b \b-\b \b\\\b \b|\b \b/\b \bdone\r\n",
            "\u001b[?25h  Created wheel for camel-kenlm: filename=camel_kenlm-2024.5.6-cp310-cp310-linux_x86_64.whl size=592944 sha256=c8a77e7db27eebaf7bfc226df0f0a1cf81e50732f666aaa157a462322d80617a\r\n",
            "  Stored in directory: /root/.cache/pip/wheels/2b/93/ff/ac84dae74c91ffe3e1c344a71f991946eacc79eada61cb703f\r\n",
            "Successfully built camel-kenlm\r\n",
            "Installing collected packages: camel-kenlm, arabic_reshaper, pyrsistent, muddler, editdistance, transformers, camel_tools\r\n",
            "  Attempting uninstall: transformers\r\n",
            "    Found existing installation: transformers 4.44.0\r\n",
            "    Uninstalling transformers-4.44.0:\r\n",
            "      Successfully uninstalled transformers-4.44.0\r\n",
            "Successfully installed arabic_reshaper-3.0.0 camel-kenlm-2024.5.6 camel_tools-1.5.5 editdistance-0.8.1 muddler-0.1.3 pyrsistent-0.20.0 transformers-4.43.4\r\n",
            "Note: you may need to restart the kernel to use updated packages.\n"
          ]
        }
      ],
      "source": [
        "pip install arabic_reshaper pyarabic camel_tools\n"
      ]
    },
    {
      "cell_type": "code",
      "execution_count": null,
      "id": "29d91a2c",
      "metadata": {
        "execution": {
          "iopub.execute_input": "2024-08-30T09:36:25.824994Z",
          "iopub.status.busy": "2024-08-30T09:36:25.823710Z",
          "iopub.status.idle": "2024-08-30T09:36:47.394510Z",
          "shell.execute_reply": "2024-08-30T09:36:47.393279Z"
        },
        "papermill": {
          "duration": 21.596142,
          "end_time": "2024-08-30T09:36:47.397473",
          "exception": false,
          "start_time": "2024-08-30T09:36:25.801331",
          "status": "completed"
        },
        "tags": [],
        "id": "29d91a2c"
      },
      "outputs": [],
      "source": [
        "import re\n",
        "import arabic_reshaper\n",
        "from pyarabic.araby import strip_tatweel\n",
        "from camel_tools.utils.normalize import normalize_unicode, normalize_alef_maksura_ar, normalize_alef_ar, normalize_teh_marbuta_ar\n",
        "from camel_tools.utils.dediac import dediac_ar\n",
        "import nltk\n",
        "from nltk.corpus import stopwords\n",
        "from nltk.tokenize import word_tokenize\n",
        "from sklearn.feature_extraction.text import TfidfVectorizer\n",
        "from gensim.models import FastText\n",
        "from nltk.stem.isri import ISRIStemmer\n",
        "import numpy as np\n",
        "import pandas as pd\n",
        "\n",
        "# Step 1: Normalize text\n",
        "def normalize_text(text):\n",
        "    text = strip_tatweel(text)                 # Removing tatweel  العـــــربية to العربية\n",
        "    text = normalize_unicode(text)             #بسم الله الرحمن الرحيم\n",
        "    text = normalize_alef_ar(text)             #Normalizes Alef characters in Arabic text.\n",
        "    text = normalize_alef_maksura_ar(text)     #Converts Alef Maksura to Yeh (ى) character.\n",
        "    text = normalize_teh_marbuta_ar(text)      #Normalizes Teh Marbuta characters (ة) in Arabic text\n",
        "    return text\n",
        "\n",
        "# Step 2: Remove diacritics   # التشكيل\n",
        "def remove_diacritics(text):\n",
        "    return dediac_ar(text)\n",
        "\n",
        "# Step 3: Tokenization and cleaning\n",
        "def tokenize_and_clean(text):\n",
        "    tokens = word_tokenize(text)\n",
        "    arabic_tokens = [word for word in tokens if re.match(r'^[\\u0600-\\u06FF]+$', word)]\n",
        "    cleaned_tokens = [re.sub(r'[^\\w\\s]', '', word) for word in arabic_tokens] #  removes ny character that is not a word character (alphanumeric and underscores) or whitespace\n",
        "    return cleaned_tokens\n",
        "\n",
        "# Step 4: Stopword removal\n",
        "def remove_stopwords(tokens):\n",
        "    nltk_stopwords = set(stopwords.words('arabic'))\n",
        "    filtered_tokens = [token for token in tokens if token not in nltk_stopwords]\n",
        "    return filtered_tokens\n",
        "\n",
        "# Step 5: Stemming\n",
        "def stem_tokens(tokens):\n",
        "    stemmer = ISRIStemmer()\n",
        "    stemmed_tokens = [stemmer.stem(token) for token in tokens]\n",
        "    return stemmed_tokens\n",
        "\n",
        "# all preprocesing without vectorization which i do under specially for lstm model\n",
        "def preprocess_text(text):\n",
        "    text = normalize_text(text)\n",
        "    text = remove_diacritics(text)\n",
        "    tokens = tokenize_and_clean(text)\n",
        "    tokens = remove_stopwords(tokens)\n",
        "    tokens = stem_tokens(tokens)\n",
        "    return ' '.join(tokens)\n",
        "\n",
        "# def vectorize_text(texts, method):\n",
        "#     if method == 'tfidf':\n",
        "#         vectorizer = TfidfVectorizer()\n",
        "#         vectors = vectorizer.fit_transform(texts)\n",
        "#     elif method == 'fasttext':\n",
        "#         # Tokenize the texts\n",
        "#         processed_texts = [text.split() for text in texts]\n",
        "\n",
        "#         # Create and train FastText model\n",
        "#         model = FastText(vector_size=100, min_count=1, window=5, epochs=10)\n",
        "#         model.build_vocab(corpus_iterable=processed_texts)\n",
        "#         model.train(corpus_iterable=processed_texts, epochs=model.epochs, total_examples=model.corpus_count)\n",
        "\n",
        "#         # Generate vectors by averaging word vectors\n",
        "#         vectors = np.array([\n",
        "#             np.mean([model.wv[word] for word in text if word in model.wv] or [np.zeros(model.vector_size)], axis=0)\n",
        "#             for text in processed_texts\n",
        "#         ])\n",
        "#     else:\n",
        "#         raise ValueError(\"Invalid vectorization method\")\n",
        "#     return vectors"
      ]
    },
    {
      "cell_type": "code",
      "execution_count": null,
      "id": "83330e29",
      "metadata": {
        "execution": {
          "iopub.execute_input": "2024-08-30T09:36:47.440758Z",
          "iopub.status.busy": "2024-08-30T09:36:47.440022Z",
          "iopub.status.idle": "2024-08-30T09:37:27.054798Z",
          "shell.execute_reply": "2024-08-30T09:37:27.053495Z"
        },
        "papermill": {
          "duration": 39.639333,
          "end_time": "2024-08-30T09:37:27.057961",
          "exception": false,
          "start_time": "2024-08-30T09:36:47.418628",
          "status": "completed"
        },
        "tags": [],
        "id": "83330e29"
      },
      "outputs": [],
      "source": [
        "# Normalize the 'text' column\n",
        "data['normalized_text'] = data['text'].apply(normalize_text)"
      ]
    },
    {
      "cell_type": "code",
      "execution_count": null,
      "id": "97e3c94c",
      "metadata": {
        "execution": {
          "iopub.execute_input": "2024-08-30T09:37:27.101270Z",
          "iopub.status.busy": "2024-08-30T09:37:27.100750Z",
          "iopub.status.idle": "2024-08-30T09:37:30.442672Z",
          "shell.execute_reply": "2024-08-30T09:37:30.441472Z"
        },
        "papermill": {
          "duration": 3.366642,
          "end_time": "2024-08-30T09:37:30.445576",
          "exception": false,
          "start_time": "2024-08-30T09:37:27.078934",
          "status": "completed"
        },
        "tags": [],
        "id": "97e3c94c"
      },
      "outputs": [],
      "source": [
        "data['no_diacritics_text'] = data['normalized_text'].apply(remove_diacritics)"
      ]
    },
    {
      "cell_type": "code",
      "execution_count": null,
      "id": "12b8cd81",
      "metadata": {
        "execution": {
          "iopub.execute_input": "2024-08-30T09:37:30.489593Z",
          "iopub.status.busy": "2024-08-30T09:37:30.488613Z",
          "iopub.status.idle": "2024-08-30T09:40:32.581660Z",
          "shell.execute_reply": "2024-08-30T09:40:32.580198Z"
        },
        "papermill": {
          "duration": 182.117621,
          "end_time": "2024-08-30T09:40:32.584886",
          "exception": false,
          "start_time": "2024-08-30T09:37:30.467265",
          "status": "completed"
        },
        "tags": [],
        "id": "12b8cd81"
      },
      "outputs": [],
      "source": [
        "data['cleaned_tokens'] = data['no_diacritics_text'].apply(tokenize_and_clean)"
      ]
    },
    {
      "cell_type": "code",
      "execution_count": null,
      "id": "4f4efaa9",
      "metadata": {
        "execution": {
          "iopub.execute_input": "2024-08-30T09:40:32.627954Z",
          "iopub.status.busy": "2024-08-30T09:40:32.626650Z",
          "iopub.status.idle": "2024-08-30T09:41:00.827118Z",
          "shell.execute_reply": "2024-08-30T09:41:00.825672Z"
        },
        "papermill": {
          "duration": 28.224993,
          "end_time": "2024-08-30T09:41:00.830053",
          "exception": false,
          "start_time": "2024-08-30T09:40:32.605060",
          "status": "completed"
        },
        "tags": [],
        "id": "4f4efaa9"
      },
      "outputs": [],
      "source": [
        "data['filtered_tokens'] = data['cleaned_tokens'].apply(remove_stopwords)"
      ]
    },
    {
      "cell_type": "code",
      "execution_count": null,
      "id": "04549e70",
      "metadata": {
        "execution": {
          "iopub.execute_input": "2024-08-30T09:41:00.873361Z",
          "iopub.status.busy": "2024-08-30T09:41:00.872906Z",
          "iopub.status.idle": "2024-08-30T09:43:09.190809Z",
          "shell.execute_reply": "2024-08-30T09:43:09.189636Z"
        },
        "papermill": {
          "duration": 128.343711,
          "end_time": "2024-08-30T09:43:09.193856",
          "exception": false,
          "start_time": "2024-08-30T09:41:00.850145",
          "status": "completed"
        },
        "tags": [],
        "id": "04549e70"
      },
      "outputs": [],
      "source": [
        "data['stemmed_tokens'] = data['filtered_tokens'].apply(stem_tokens)"
      ]
    },
    {
      "cell_type": "code",
      "execution_count": null,
      "id": "394cf65c",
      "metadata": {
        "execution": {
          "iopub.execute_input": "2024-08-30T09:43:09.236073Z",
          "iopub.status.busy": "2024-08-30T09:43:09.235619Z",
          "iopub.status.idle": "2024-08-30T09:43:09.899453Z",
          "shell.execute_reply": "2024-08-30T09:43:09.897860Z"
        },
        "papermill": {
          "duration": 0.689131,
          "end_time": "2024-08-30T09:43:09.903214",
          "exception": false,
          "start_time": "2024-08-30T09:43:09.214083",
          "status": "completed"
        },
        "tags": [],
        "id": "394cf65c"
      },
      "outputs": [],
      "source": [
        "data['preprocessed_text'] = data['stemmed_tokens'].apply(lambda tokens: \" \".join(tokens))"
      ]
    },
    {
      "cell_type": "code",
      "execution_count": null,
      "id": "a710ac9c",
      "metadata": {
        "execution": {
          "iopub.execute_input": "2024-08-30T09:43:09.953231Z",
          "iopub.status.busy": "2024-08-30T09:43:09.952768Z",
          "iopub.status.idle": "2024-08-30T09:43:59.787674Z",
          "shell.execute_reply": "2024-08-30T09:43:59.786461Z"
        },
        "papermill": {
          "duration": 49.860068,
          "end_time": "2024-08-30T09:43:59.790617",
          "exception": false,
          "start_time": "2024-08-30T09:43:09.930549",
          "status": "completed"
        },
        "tags": [],
        "id": "a710ac9c"
      },
      "outputs": [],
      "source": [
        "from sklearn.preprocessing import LabelEncoder\n",
        "from sklearn.model_selection import train_test_split\n",
        "from tensorflow.keras.preprocessing.text import Tokenizer\n",
        "from tensorflow.keras.preprocessing.sequence import pad_sequences\n",
        "from tensorflow.keras.utils import to_categorical\n",
        "from tensorflow.keras.models import Sequential\n",
        "from tensorflow.keras.layers import Embedding, LSTM, Dropout, Dense, Bidirectional\n",
        "from tensorflow.keras.callbacks import EarlyStopping, ReduceLROnPlateau\n",
        "from imblearn.over_sampling import SMOTE\n",
        "import numpy as np\n",
        "import tensorflow as tf\n",
        "import random\n",
        "\n",
        "# Set random seeds for reproducibility\n",
        "np.random.seed(42)\n",
        "tf.random.set_seed(42)\n",
        "random.seed(42)\n",
        "\n",
        "# Load and preprocess your data\n",
        "X = data['preprocessed_text']\n",
        "y = data['targe']\n",
        "\n",
        "# Encode labels\n",
        "label_encoder = LabelEncoder()\n",
        "y_encoded = label_encoder.fit_transform(y) #Converts categorical labels into numerical format\n",
        "y_categorical = to_categorical(y_encoded) #Converts numerical labels into one-hot encoded format/convert label 1 into [0, 1, 0]\n",
        "\n",
        "# Split the dataset\n",
        "X_train, X_test, y_train, y_test = train_test_split(X, y_categorical, test_size=0.2, random_state=42)\n",
        "\n",
        "# Tokenize the text data // mapping each unique word to an integer index //  \"I\" → 1  \"love\" → 2 \"machine\" → 3\n",
        "tokenizer = Tokenizer()\n",
        "tokenizer.fit_on_texts(X_train)\n",
        "vocab_size = len(tokenizer.word_index) + 1\n",
        "\n",
        "# Convert text to sequences // \"I love machine learning\" → [1, 2, 3, 4]\n",
        "X_train_seq = tokenizer.texts_to_sequences(X_train) #convert each text into a sequence of integers\n",
        "X_test_seq = tokenizer.texts_to_sequences(X_test)\n",
        "\n",
        "# Pad sequences (using a smaller max_length to speed up training)\n",
        "max_length = min(max([len(seq) for seq in X_train_seq]), 100)  # Cap at 100 for efficiency\n",
        "X_train_pad = pad_sequences(X_train_seq, maxlen=max_length)\n",
        "X_test_pad = pad_sequences(X_test_seq, maxlen=max_length)\n",
        "\n",
        "# Apply SMOTE to handle class imbalance\n",
        "smote = SMOTE(sampling_strategy='auto', random_state=42)\n",
        "X_train_smote, y_train_smote = smote.fit_resample(X_train_pad, np.argmax(y_train, axis=1))\n",
        "\n",
        "# Convert back to categorical\n",
        "y_train_smote_categorical = to_categorical(y_train_smote)\n"
      ]
    },
    {
      "cell_type": "code",
      "execution_count": null,
      "id": "a2eee1d7",
      "metadata": {
        "execution": {
          "iopub.execute_input": "2024-08-30T09:43:59.832850Z",
          "iopub.status.busy": "2024-08-30T09:43:59.832028Z",
          "iopub.status.idle": "2024-08-30T10:00:49.608760Z",
          "shell.execute_reply": "2024-08-30T10:00:49.606585Z"
        },
        "papermill": {
          "duration": 1009.801943,
          "end_time": "2024-08-30T10:00:49.612478",
          "exception": false,
          "start_time": "2024-08-30T09:43:59.810535",
          "status": "completed"
        },
        "tags": [],
        "id": "a2eee1d7",
        "outputId": "5caf8146-7022-432c-acff-9686e098a2e8"
      },
      "outputs": [
        {
          "name": "stderr",
          "output_type": "stream",
          "text": [
            "/opt/conda/lib/python3.10/site-packages/keras/src/layers/core/embedding.py:90: UserWarning: Argument `input_length` is deprecated. Just remove it.\n",
            "  warnings.warn(\n"
          ]
        },
        {
          "name": "stdout",
          "output_type": "stream",
          "text": [
            "Epoch 1/10\n",
            "\u001b[1m2181/2181\u001b[0m \u001b[32m━━━━━━━━━━━━━━━━━━━━\u001b[0m\u001b[37m\u001b[0m \u001b[1m215s\u001b[0m 96ms/step - accuracy: 0.6043 - loss: 0.9013 - val_accuracy: 0.0186 - val_loss: 3.6414 - learning_rate: 0.0010\n",
            "Epoch 2/10\n",
            "\u001b[1m2181/2181\u001b[0m \u001b[32m━━━━━━━━━━━━━━━━━━━━\u001b[0m\u001b[37m\u001b[0m \u001b[1m209s\u001b[0m 96ms/step - accuracy: 0.7829 - loss: 0.5361 - val_accuracy: 0.0171 - val_loss: 4.5562 - learning_rate: 0.0010\n",
            "Epoch 3/10\n",
            "\u001b[1m2181/2181\u001b[0m \u001b[32m━━━━━━━━━━━━━━━━━━━━\u001b[0m\u001b[37m\u001b[0m \u001b[1m259s\u001b[0m 95ms/step - accuracy: 0.8196 - loss: 0.4502 - val_accuracy: 0.0192 - val_loss: 4.8398 - learning_rate: 5.0000e-04\n",
            "Epoch 4/10\n",
            "\u001b[1m2181/2181\u001b[0m \u001b[32m━━━━━━━━━━━━━━━━━━━━\u001b[0m\u001b[37m\u001b[0m \u001b[1m262s\u001b[0m 95ms/step - accuracy: 0.8403 - loss: 0.4004 - val_accuracy: 0.0211 - val_loss: 5.0879 - learning_rate: 2.5000e-04\n",
            "\u001b[1m340/340\u001b[0m \u001b[32m━━━━━━━━━━━━━━━━━━━━\u001b[0m\u001b[37m\u001b[0m \u001b[1m9s\u001b[0m 25ms/step - accuracy: 0.9109 - loss: 0.2926\n",
            "LSTM Model - Loss: 0.2879869341850281, Accuracy: 0.9110559225082397\n"
          ]
        }
      ],
      "source": [
        "from tensorflow.keras.layers import SpatialDropout1D\n",
        "from tensorflow.keras.optimizers import Adam\n",
        "from tensorflow.keras.callbacks import EarlyStopping, ReduceLROnPlateau\n",
        "from tensorflow.keras.layers import GlobalMaxPooling1D\n",
        "\n",
        "# Define the LSTM model with additional improvements\n",
        "# 1-Converts integer sequences into dense vectors of fixed size\n",
        "# #Parameters: input_dim: Size of the vocabulary (i.e., the number of unique tokens).\n",
        "# output_dim: Dimensionality of the dense embedding vectors.\n",
        "# input_length: Length of input sequences.\n",
        "#2- Applies dropout to entire 1D feature maps to prevent overfitting\n",
        "#Helps in regularizing the model by reducing reliance on specific features.\n",
        "#Benefit: Captures semantic meaning of words and reduces dimensionality of input data\n",
        "def create_improved_lstm_model(vocab_size, embedding_dim, input_length):\n",
        "    model = Sequential()\n",
        "    model.add(Embedding(input_dim=vocab_size, output_dim=embedding_dim, input_length=input_length)) # 1\n",
        "    model.add(SpatialDropout1D(0.3))  # Added spatial dropout for regularization 2\n",
        "    model.add(Bidirectional(LSTM(64, return_sequences=True)))  # Increased LSTM units\n",
        "    model.add(GlobalMaxPooling1D())  # Added global max pooling to reduce overfitting\n",
        "    model.add(Dropout(0.4))\n",
        "    model.add(Dense(32, activation='relu'))  # Added an additional dense layer\n",
        "    model.add(Dense(5, activation='softmax'))\n",
        "    model.compile(optimizer=Adam(learning_rate=1e-3), loss='categorical_crossentropy', metrics=['accuracy'])\n",
        "    return model\n",
        "\n",
        "# Create the improved LSTM model\n",
        "embedding_dim = 100  # Continue with a reasonable embedding dimension\n",
        "lstm_model = create_improved_lstm_model(vocab_size, embedding_dim, max_length)\n",
        "\n",
        "# Callbacks: Early stopping and learning rate reduction on plateau\n",
        "early_stopping = EarlyStopping(monitor='val_loss', patience=3, restore_best_weights=True)\n",
        "reduce_lr = ReduceLROnPlateau(monitor='val_loss', factor=0.5, patience=1, min_lr=1e-5)\n",
        "\n",
        "# Train the LSTM model\n",
        "history = lstm_model.fit(X_train_smote, y_train_smote_categorical, epochs=10, batch_size=32,  # Fine-tuned batch size\n",
        "                         validation_split=0.2, callbacks=[early_stopping, reduce_lr])\n",
        "\n",
        "# Evaluate the LSTM model\n",
        "loss, accuracy = lstm_model.evaluate(X_test_pad, y_test)\n",
        "print(f'LSTM Model - Loss: {loss}, Accuracy: {accuracy}')\n"
      ]
    },
    {
      "cell_type": "code",
      "execution_count": null,
      "id": "a5ba12ac",
      "metadata": {
        "execution": {
          "iopub.execute_input": "2024-08-30T10:00:51.520743Z",
          "iopub.status.busy": "2024-08-30T10:00:51.519751Z",
          "iopub.status.idle": "2024-08-30T10:00:51.924233Z",
          "shell.execute_reply": "2024-08-30T10:00:51.922697Z"
        },
        "papermill": {
          "duration": 1.337746,
          "end_time": "2024-08-30T10:00:51.927920",
          "exception": false,
          "start_time": "2024-08-30T10:00:50.590174",
          "status": "completed"
        },
        "tags": [],
        "id": "a5ba12ac",
        "outputId": "3882d2e2-2ef1-42e9-ac35-4e6c1dc0b71c"
      },
      "outputs": [
        {
          "data": {
            "image/png": "[encoded data removed]",
            "text/plain": [
              "<Figure size 1200x600 with 1 Axes>"
            ]
          },
          "metadata": {},
          "output_type": "display_data"
        }
      ],
      "source": [
        "import matplotlib.pyplot as plt\n",
        "\n",
        "# Plot training & validation accuracy values\n",
        "plt.figure(figsize=(12, 6))\n",
        "plt.plot(history.history['accuracy'])\n",
        "plt.plot(history.history['val_accuracy'])\n",
        "plt.title('Model Accuracy')\n",
        "plt.xlabel('Epoch')\n",
        "plt.ylabel('Accuracy')\n",
        "plt.legend(['Train', 'Validation'], loc='upper left')\n",
        "plt.grid(True)\n",
        "plt.show()\n"
      ]
    },
    {
      "cell_type": "code",
      "execution_count": null,
      "id": "9b326a68",
      "metadata": {
        "execution": {
          "iopub.execute_input": "2024-08-30T10:00:53.830158Z",
          "iopub.status.busy": "2024-08-30T10:00:53.829235Z",
          "iopub.status.idle": "2024-08-30T10:00:54.148948Z",
          "shell.execute_reply": "2024-08-30T10:00:54.147592Z"
        },
        "papermill": {
          "duration": 1.244693,
          "end_time": "2024-08-30T10:00:54.152249",
          "exception": false,
          "start_time": "2024-08-30T10:00:52.907556",
          "status": "completed"
        },
        "tags": [],
        "id": "9b326a68",
        "outputId": "bc6df93e-34c8-4a95-a11c-b41beb815e9b"
      },
      "outputs": [
        {
          "data": {
            "image/png": "[encoded data removed]",
            "text/plain": [
              "<Figure size 1200x600 with 1 Axes>"
            ]
          },
          "metadata": {},
          "output_type": "display_data"
        }
      ],
      "source": [
        "# Plot training & validation loss values\n",
        "plt.figure(figsize=(12, 6))\n",
        "plt.plot(history.history['loss'])\n",
        "plt.plot(history.history['val_loss'])\n",
        "plt.title('Model Loss')\n",
        "plt.xlabel('Epoch')\n",
        "plt.ylabel('Loss')\n",
        "plt.legend(['Train', 'Validation'], loc='upper left')\n",
        "plt.grid(True)\n",
        "plt.show()\n"
      ]
    },
    {
      "cell_type": "code",
      "execution_count": null,
      "id": "87f59261",
      "metadata": {
        "execution": {
          "iopub.execute_input": "2024-08-30T10:00:56.025050Z",
          "iopub.status.busy": "2024-08-30T10:00:56.024529Z",
          "iopub.status.idle": "2024-08-30T10:00:56.171631Z",
          "shell.execute_reply": "2024-08-30T10:00:56.170113Z"
        },
        "papermill": {
          "duration": 1.062501,
          "end_time": "2024-08-30T10:00:56.174449",
          "exception": false,
          "start_time": "2024-08-30T10:00:55.111948",
          "status": "completed"
        },
        "tags": [],
        "id": "87f59261",
        "outputId": "8017c9a3-9dad-4338-9296-36841a02f55f"
      },
      "outputs": [
        {
          "name": "stdout",
          "output_type": "stream",
          "text": [
            "\u001b[1m1/1\u001b[0m \u001b[32m━━━━━━━━━━━━━━━━━━━━\u001b[0m\u001b[37m\u001b[0m \u001b[1m0s\u001b[0m 42ms/step - accuracy: 0.8000 - loss: 0.9173\n",
            "LSTM Model on New Data - Loss: 0.9173175692558289, Accuracy: 0.800000011920929\n",
            "LSTM Model on New Data - Loss: 0.9173, Accuracy: 80.00%\n"
          ]
        }
      ],
      "source": [
        "# Example synthetic Arabic texts for each class\n",
        "new_data = [\n",
        "    {\"text\": \"تقرير ثقافي جديد عن الأدب العربي\", \"class\": 0},  # Culture\n",
        "    {\"text\": \"مقال عن الأحداث المتنوعة في العالم\", \"class\": 1},  # Diverse\n",
        "    {\"text\": \"تحليل اقتصادي لأزمة السوق\", \"class\": 2},  # Economy\n",
        "    {\"text\": \"تقرير سياسي حول الانتخابات\", \"class\": 3},  # Politics\n",
        "    {\"text\": \"مباراة رياضية مثيرة بين الفرق\", \"class\": 4}   # Sport\n",
        "]\n",
        "\n",
        "# Convert to DataFrame\n",
        "import pandas as pd\n",
        "test_df = pd.DataFrame(new_data)\n",
        "\n",
        "# Preprocess text as done with your original training data\n",
        "X_new_test = test_df['text'].apply(preprocess_text)  # Apply the preprocessing to each row\n",
        "y_new_test = test_df['class']\n",
        "\n",
        "# Convert labels to categorical (one-hot encoding)\n",
        "from tensorflow.keras.utils import to_categorical\n",
        "y_new_test_categorical = to_categorical(y_new_test, num_classes=5)\n",
        "\n",
        "# Tokenize and pad sequences\n",
        "X_new_test_pad = tokenizer.texts_to_sequences(X_new_test)\n",
        "X_new_test_pad = pad_sequences(X_new_test_pad, maxlen=max_length)\n",
        "\n",
        "# Evaluate model on new data\n",
        "new_loss, new_accuracy = lstm_model.evaluate(X_new_test_pad, y_new_test_categorical)\n",
        "print(f'LSTM Model on New Data - Loss: {new_loss}, Accuracy: {new_accuracy}')\n",
        "\n",
        "accuracy_percentage = new_accuracy * 100\n",
        "# Print the results\n",
        "print(f'LSTM Model on New Data - Loss: {new_loss:.4f}, Accuracy: {accuracy_percentage:.2f}%')\n"
      ]
    },
    {
      "cell_type": "code",
      "execution_count": null,
      "id": "eea6b2db",
      "metadata": {
        "execution": {
          "iopub.execute_input": "2024-08-30T10:00:58.085879Z",
          "iopub.status.busy": "2024-08-30T10:00:58.084579Z",
          "iopub.status.idle": "2024-08-30T10:00:58.562430Z",
          "shell.execute_reply": "2024-08-30T10:00:58.559909Z"
        },
        "papermill": {
          "duration": 1.48137,
          "end_time": "2024-08-30T10:00:58.565305",
          "exception": false,
          "start_time": "2024-08-30T10:00:57.083935",
          "status": "completed"
        },
        "tags": [],
        "id": "eea6b2db",
        "outputId": "13a11f4f-f8cd-4a99-ed2a-68ee324cef94"
      },
      "outputs": [
        {
          "name": "stdout",
          "output_type": "stream",
          "text": [
            "\u001b[1m1/1\u001b[0m \u001b[32m━━━━━━━━━━━━━━━━━━━━\u001b[0m\u001b[37m\u001b[0m \u001b[1m0s\u001b[0m 401ms/step\n",
            "Text: تقرير ثقافي جديد عن الأدب العربي\n",
            "True Label: Culture | Predicted Label: Culture\n",
            "--------------------------------------------------\n",
            "Text: مقال عن الأحداث المتنوعة في العالم\n",
            "True Label: Diverse | Predicted Label: Culture\n",
            "--------------------------------------------------\n",
            "Text: تحليل اقتصادي لأزمة السوق\n",
            "True Label: Economy | Predicted Label: Economy\n",
            "--------------------------------------------------\n",
            "Text: تقرير سياسي حول الانتخابات\n",
            "True Label: Politics | Predicted Label: Politics\n",
            "--------------------------------------------------\n",
            "Text: مباراة رياضية مثيرة بين الفرق\n",
            "True Label: Sport | Predicted Label: Sport\n",
            "--------------------------------------------------\n"
          ]
        }
      ],
      "source": [
        "# Step 1: Generate predictions\n",
        "y_pred = lstm_model.predict(X_new_test_pad)\n",
        "y_pred_classes = y_pred.argmax(axis=1)  # Convert predictions to class labels\n",
        "\n",
        "# Step 2: Define the mapping of class labels to class names\n",
        "class_names = ['Culture', 'Diverse', 'Economy', 'Politics', 'Sport']\n",
        "\n",
        "# Step 3: Print each text, its true label, and the predicted label\n",
        "for i in range(len(test_df)):\n",
        "    text = test_df['text'][i]\n",
        "    true_label = class_names[y_new_test[i]]\n",
        "    predicted_label = class_names[y_pred_classes[i]]\n",
        "    print(f\"Text: {text}\")\n",
        "    print(f\"True Label: {true_label} | Predicted Label: {predicted_label}\")\n",
        "    print(\"-\" * 50)\n"
      ]
    },
    {
      "cell_type": "code",
      "execution_count": null,
      "id": "feabc27a",
      "metadata": {
        "execution": {
          "iopub.execute_input": "2024-08-30T10:01:00.404046Z",
          "iopub.status.busy": "2024-08-30T10:01:00.403501Z",
          "iopub.status.idle": "2024-08-30T10:01:09.575750Z",
          "shell.execute_reply": "2024-08-30T10:01:09.573858Z"
        },
        "papermill": {
          "duration": 10.103551,
          "end_time": "2024-08-30T10:01:09.578851",
          "exception": false,
          "start_time": "2024-08-30T10:00:59.475300",
          "status": "completed"
        },
        "tags": [],
        "id": "feabc27a",
        "outputId": "6cd4aebf-e0cf-40e5-a05e-c7909e269212"
      },
      "outputs": [
        {
          "name": "stdout",
          "output_type": "stream",
          "text": [
            "\u001b[1m340/340\u001b[0m \u001b[32m━━━━━━━━━━━━━━━━━━━━\u001b[0m\u001b[37m\u001b[0m \u001b[1m8s\u001b[0m 22ms/step\n"
          ]
        },
        {
          "data": {
            "image/png": "[encoded data removed]",
            "text/plain": [
              "<Figure size 800x600 with 2 Axes>"
            ]
          },
          "metadata": {},
          "output_type": "display_data"
        }
      ],
      "source": [
        "from sklearn.metrics import confusion_matrix\n",
        "import seaborn as sns\n",
        "import matplotlib.pyplot as plt\n",
        "\n",
        "# Generate predictions\n",
        "y_pred = lstm_model.predict(X_test_pad)\n",
        "y_pred_classes = y_pred.argmax(axis=1)\n",
        "y_true = y_test.argmax(axis=1)\n",
        "\n",
        "# Compute the confusion matrix\n",
        "cm = confusion_matrix(y_true, y_pred_classes)\n",
        "\n",
        "# Plot the confusion matrix\n",
        "plt.figure(figsize=(8, 6))\n",
        "sns.heatmap(cm, annot=True, fmt='d', cmap='Blues', xticklabels=['Culture', 'Diverse', 'Economy', 'Politics', 'Sport'],\n",
        "            yticklabels=['Culture', 'Diverse', 'Economy', 'Politics', 'Sport'])\n",
        "plt.xlabel('Predicted Label')\n",
        "plt.ylabel('True Label')\n",
        "plt.title('Confusion Matrix')\n",
        "plt.show()\n"
      ]
    },
    {
      "cell_type": "code",
      "execution_count": null,
      "id": "d4ded5d1",
      "metadata": {
        "papermill": {
          "duration": 0.927009,
          "end_time": "2024-08-30T10:01:11.533302",
          "exception": false,
          "start_time": "2024-08-30T10:01:10.606293",
          "status": "completed"
        },
        "tags": [],
        "id": "d4ded5d1"
      },
      "outputs": [],
      "source": []
    },
    {
      "cell_type": "code",
      "execution_count": null,
      "id": "d0b7f83d",
      "metadata": {
        "papermill": {
          "duration": 0.982223,
          "end_time": "2024-08-30T10:01:13.436624",
          "exception": false,
          "start_time": "2024-08-30T10:01:12.454401",
          "status": "completed"
        },
        "tags": [],
        "id": "d0b7f83d"
      },
      "outputs": [],
      "source": []
    },
    {
      "cell_type": "code",
      "execution_count": null,
      "id": "bf0e118d",
      "metadata": {
        "papermill": {
          "duration": 0.919542,
          "end_time": "2024-08-30T10:01:15.267277",
          "exception": false,
          "start_time": "2024-08-30T10:01:14.347735",
          "status": "completed"
        },
        "tags": [],
        "id": "bf0e118d"
      },
      "outputs": [],
      "source": []
    }
  ],
  "metadata": {
    "kaggle": {
      "accelerator": "none",
      "dataSources": [
        {
          "datasetId": 1164193,
          "sourceId": 1950688,
          "sourceType": "datasetVersion"
        }
      ],
      "dockerImageVersionId": 30761,
      "isGpuEnabled": false,
      "isInternetEnabled": true,
      "language": "python",
      "sourceType": "notebook"
    },
    "kernelspec": {
      "display_name": "Python 3",
      "language": "python",
      "name": "python3"
    },
    "language_info": {
      "codemirror_mode": {
        "name": "ipython",
        "version": 3
      },
      "file_extension": ".py",
      "mimetype": "text/x-python",
      "name": "python",
      "nbconvert_exporter": "python",
      "pygments_lexer": "ipython3",
      "version": "3.10.14"
    },
    "papermill": {
      "default_parameters": {},
      "duration": 1617.902087,
      "end_time": "2024-08-30T10:01:19.009601",
      "environment_variables": {},
      "exception": null,
      "input_path": "__notebook__.ipynb",
      "output_path": "__notebook__.ipynb",
      "parameters": {},
      "start_time": "2024-08-30T09:34:21.107514",
      "version": "2.6.0"
    },
    "colab": {
      "provenance": []
    }
  },
  "nbformat": 4,
  "nbformat_minor": 5
}